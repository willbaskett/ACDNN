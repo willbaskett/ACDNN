{
 "cells": [
  {
   "cell_type": "code",
   "execution_count": 1,
   "id": "a87d0362",
   "metadata": {},
   "outputs": [],
   "source": [
    "import numpy as np\n",
    "import pandas as pd\n",
    "from sklearn.model_selection import train_test_split\n",
    "from sklearn.utils import class_weight\n",
    "import matplotlib.pyplot as plt\n",
    "\n",
    "import torch\n",
    "import torch.nn as nn\n",
    "import torch.nn.functional as F\n",
    "\n",
    "import gc\n",
    "import sys\n",
    "import torchvision.datasets as dts \n",
    "import torchvision.transforms as transforms\n",
    "from torchvision.transforms import v2\n",
    "import matplotlib.pyplot as plt\n",
    "\n",
    "from tqdm.notebook import tqdm\n",
    "\n",
    "import medmnist\n",
    "from medmnist import INFO, Evaluator\n",
    "import torch.utils.data as dat\n",
    "import itertools as it\n",
    "\n",
    "from torcheval.metrics.functional import binary_auroc\n",
    "from torcheval.metrics.functional import binary_accuracy\n",
    "\n",
    "from ACDNN import *"
   ]
  },
  {
   "cell_type": "code",
   "execution_count": 2,
   "id": "c811c3b2-5817-444e-8f8e-913bf8fc33da",
   "metadata": {},
   "outputs": [],
   "source": [
    "def make_non_uniform_alphas(x, smoothing_ratio=0.01, return_probability_dist=True):\n",
    "    B, C, H, W, D = x.shape\n",
    "    pool_width = int(H*smoothing_ratio)*2+1\n",
    "    step_multiplier = 1.1\n",
    "    noise_magnitude = 1\n",
    "    normal_dist = torch.distributions.Normal(0,1)\n",
    "    base = torch.zeros((B, 1, H, W, D), device=device)\n",
    "    dimensions = H\n",
    "    while int(dimensions) > 0:\n",
    "        rand = torch.empty((B, 1, int(dimensions), int(dimensions), int(dimensions)), device=device).normal_(0,1) * noise_magnitude\n",
    "        base += F.interpolate(rand, (int(H), int(H), int(H)), mode=\"trilinear\")\n",
    "        dimensions = dimensions/step_multiplier\n",
    "        noise_magnitude *= step_multiplier\n",
    "\n",
    "    base = base.reshape(B, H, W, D)\n",
    "    base = F.avg_pool3d(base, pool_width,1, padding=pool_width//2, count_include_pad=False)\n",
    "    base = base - base.mean(axis=[1,2,3]).reshape(-1,1,1,1)\n",
    "    base = base / base.std(axis=[1,2,3]).reshape(-1,1,1,1)\n",
    "    \n",
    "    if return_probability_dist:\n",
    "        dist = normal_dist.cdf(base)\n",
    "        dist = dist - dist.min(axis=1)[0].unsqueeze(1)\n",
    "        dist = dist / dist.max(axis=1)[0].unsqueeze(1)\n",
    "        return dist\n",
    "    else:\n",
    "        return base"
   ]
  },
  {
   "cell_type": "code",
   "execution_count": null,
   "id": "0e763c89-ffb3-4c23-8e3b-45e548444c2b",
   "metadata": {},
   "outputs": [],
   "source": []
  },
  {
   "cell_type": "code",
   "execution_count": 3,
   "id": "7bf4db2a",
   "metadata": {},
   "outputs": [
    {
     "name": "stdout",
     "output_type": "stream",
     "text": [
      "MedMNIST v3.0.1 @ https://github.com/MedMNIST/MedMNIST/\n"
     ]
    }
   ],
   "source": [
    "print(f\"MedMNIST v{medmnist.__version__} @ {medmnist.HOMEPAGE}\")"
   ]
  },
  {
   "cell_type": "code",
   "execution_count": 4,
   "id": "8e973c6a",
   "metadata": {},
   "outputs": [],
   "source": [
    "data_flag = 'adrenalmnist3d'\n",
    "download = True\n",
    "\n",
    "info = INFO[data_flag]\n",
    "task = info['task']\n",
    "n_channels = info['n_channels']\n",
    "n_classes = len(info['label'])\n",
    "\n",
    "DataClass = getattr(medmnist, info['python_class'])"
   ]
  },
  {
   "cell_type": "code",
   "execution_count": 5,
   "id": "d7dc27e4",
   "metadata": {},
   "outputs": [],
   "source": [
    "def evaluate_model(model, dlr, test_batches=50, smoothing_radius=0, use_auc=False):\n",
    "    test_criterion = nn.CrossEntropyLoss(reduction='none')\n",
    "    \n",
    "    with torch.no_grad():\n",
    "        gc.collect()\n",
    "        torch.cuda.empty_cache()\n",
    "        model.eval()\n",
    "        torch.manual_seed(0)\n",
    "\n",
    "        outputs = []\n",
    "        targets = []\n",
    "        for test_iter, test_batch in enumerate(dlr):\n",
    "            if test_iter >= test_batches:\n",
    "                break\n",
    "\n",
    "            loss_list = []\n",
    "            x_test, y_test = test_batch\n",
    "            x_test = x_test.to(device).float()\n",
    "            y_test = y_test.to(device).long()\n",
    "            \n",
    "            output = F.softmax(model(x_test), dim=1)\n",
    "            #losses.append(test_criterion(output, y_test.repeat(1,model.n_outputs)))\n",
    "            outputs.append(output[:,1,:])\n",
    "            targets.append(y_test.repeat(1,model.n_outputs).float())\n",
    "\n",
    "        outputs = torch.cat(outputs, axis=0).float()\n",
    "        targets = torch.cat(targets, axis=0).float()\n",
    "\n",
    "        if use_auc:\n",
    "            results = binary_auroc(outputs.T, targets.T, num_tasks=outputs.shape[1]).reshape(1,-1)\n",
    "        else:\n",
    "            results = (outputs.round() == targets).float().mean(axis=0).reshape(1,-1)\n",
    "        \n",
    "        losses = F.avg_pool1d(results, kernel_size=smoothing_radius*2+1,stride=1, padding=smoothing_radius, count_include_pad=False).mean(axis=0).cpu().numpy()\n",
    "        \n",
    "        return losses"
   ]
  },
  {
   "cell_type": "code",
   "execution_count": 6,
   "id": "f4fd09bd",
   "metadata": {},
   "outputs": [],
   "source": [
    "def train_model(train, val, test, epochs, model, checkpoint_filename=\"binary_model.pyt\",\n",
    "                lr=1e-4, scheduler_patience=10, test_batches = 10, iters_between_test = 10,\n",
    "                min_complexity_target=0, initial_wd=1, smoothing_value=0.1, smoothing_radius=0,\n",
    "                evaluate_using_auc=False):\n",
    "\n",
    "    test_criterion = nn.CrossEntropyLoss(reduction='none')\n",
    "    criterion = nn.CrossEntropyLoss(label_smoothing=smoothing_value)\n",
    "    \n",
    "    model.train()\n",
    "    iters = len(train)\n",
    "    losses_val = None\n",
    "    losses_test = None\n",
    "    running_train_loss = []\n",
    "    \n",
    "    #training epochs\n",
    "    optimizer = torch.optim.AdamW(model.parameters(), lr=lr, weight_decay=initial_wd)\n",
    "    scaler = torch.amp.GradScaler(\"cuda\")\n",
    "    scheduler = torch.optim.lr_scheduler.OneCycleLR(optimizer, max_lr=lr, epochs=epochs, steps_per_epoch=int(iters), div_factor=1e4, pct_start=0.1)\n",
    "    for epoch in range(epochs):\n",
    "        #set seed here, seed is set again at test. \n",
    "        #If not reset after test this leads to overfitting since noise is the same each epoch\n",
    "        torch.manual_seed(np.random.randint(99999999))\n",
    "        model.train()\n",
    "        gc.collect()\n",
    "        torch.cuda.empty_cache()\n",
    "        \n",
    "        #print(\"--------------------------------------\\nEPOCH\", epoch)\n",
    "        \n",
    "        pbar = tqdm(train)\n",
    "        for iteration, batch in enumerate(pbar):\n",
    "            x_train, y_train = batch\n",
    "            x_train = x_train.to(device).float()\n",
    "            y_train = y_train.to(device).long()\n",
    "            \n",
    "            optimizer.zero_grad()\n",
    "            with torch.amp.autocast(\"cuda\"):\n",
    "                output = model(x_train)\n",
    "                #train loss\n",
    "                loss = criterion(output, y_train.repeat(1,model.n_outputs))\n",
    "    \n",
    "            scaler.scale(loss).backward()\n",
    "            scaler.unscale_(optimizer)\n",
    "            nn.utils.clip_grad_norm_(model.parameters(), 1)\n",
    "            scaler.step(optimizer)\n",
    "            scaler.update()\n",
    "            scheduler.step()\n",
    "            optimizer.zero_grad()\n",
    "            \n",
    "            running_train_loss.append(float(loss))\n",
    "            running_train_loss = running_train_loss[-1000:]\n",
    "            current_lr = optimizer.param_groups[0]['lr']\n",
    "            current_wd = optimizer.param_groups[0]['weight_decay']\n",
    "\n",
    "            pbar.set_description(f\"Loss: {np.mean(running_train_loss):.4f} LR {current_lr:.7f} WD {current_wd:.2f}\")\n",
    "        \n",
    "        \n",
    "        model.eval()\n",
    "        #losses_train = evaluate_model(model, train, test_batches=test_batches)\n",
    "        losses_val = evaluate_model(model, val, test_batches=test_batches, use_auc=evaluate_using_auc, smoothing_radius=smoothing_radius)\n",
    "        losses_test = evaluate_model(model, test, test_batches=test_batches, use_auc=evaluate_using_auc, smoothing_radius=smoothing_radius)\n",
    "\n",
    "        model.train()\n",
    "        torch.manual_seed(np.random.randint(99999999))\n",
    "        gc.collect()\n",
    "        torch.cuda.empty_cache()\n",
    "            \n",
    "    \n",
    "    model.eval()\n",
    "    return losses_test, losses_val, model"
   ]
  },
  {
   "cell_type": "code",
   "execution_count": null,
   "id": "840b9f77",
   "metadata": {},
   "outputs": [],
   "source": []
  },
  {
   "cell_type": "code",
   "execution_count": 7,
   "id": "5202f51e",
   "metadata": {},
   "outputs": [
    {
     "name": "stdout",
     "output_type": "stream",
     "text": [
      "Using downloaded and verified file: /home/tb/.medmnist/adrenalmnist3d.npz\n",
      "Using downloaded and verified file: /home/tb/.medmnist/adrenalmnist3d.npz\n",
      "Using downloaded and verified file: /home/tb/.medmnist/adrenalmnist3d.npz\n"
     ]
    }
   ],
   "source": [
    "train_batch_size = 64\n",
    "val_batch_size = 64\n",
    "test_batch_size = 64\n",
    "\n",
    "num_workers = 8\n",
    "\n",
    "trnsform_train = transforms.Compose([])\n",
    "trnsform = transforms.Compose([])\n",
    "\n",
    "# load the data\n",
    "train_dataset = DataClass(split='train', transform=trnsform_train, download=download)\n",
    "val_dataset = DataClass(split='val', transform=trnsform, download=download)\n",
    "test_dataset = DataClass(split='test', transform=trnsform, download=download)\n",
    "\n",
    "#calculate weights\n",
    "dlr = dat.DataLoader(dataset=train_dataset, batch_size=len(train_dataset))\n",
    "data = next(iter(dlr))\n",
    "class_weights = class_weight.compute_sample_weight(\n",
    "        class_weight='balanced',\n",
    "        y=data[1].float().reshape(-1).numpy())\n",
    "\n",
    "# encapsulate data into dataloader form\n",
    "sampler = dat.RandomSampler(train_dataset, replacement=True, num_samples=1000000)\n",
    "#sampler = dat.WeightedRandomSampler(class_weights, replacement=True, num_samples=100000)\n",
    "train_loader = dat.DataLoader(dataset=train_dataset, sampler=sampler, batch_size=train_batch_size, num_workers=num_workers, persistent_workers=True)\n",
    "val_loader = dat.DataLoader(dataset=val_dataset, batch_size=val_batch_size, shuffle=False, num_workers=num_workers, persistent_workers=True)\n",
    "test_loader = dat.DataLoader(dataset=test_dataset, batch_size=test_batch_size, shuffle=False, num_workers=num_workers, persistent_workers=True)"
   ]
  },
  {
   "cell_type": "code",
   "execution_count": 8,
   "id": "c946b933",
   "metadata": {},
   "outputs": [
    {
     "name": "stdout",
     "output_type": "stream",
     "text": [
      "Dataset AdrenalMNIST3D of size 28 (adrenalmnist3d)\n",
      "    Number of datapoints: 1188\n",
      "    Root location: /home/tb/.medmnist\n",
      "    Split: train\n",
      "    Task: binary-class\n",
      "    Number of channels: 1\n",
      "    Meaning of labels: {'0': 'normal', '1': 'hyperplasia'}\n",
      "    Number of samples: {'train': 1188, 'val': 98, 'test': 298}\n",
      "    Description: The AdrenalMNIST3D is a new 3D shape classification dataset, consisting of shape masks from 1,584 left and right adrenal glands (i.e., 792 patients). Collected from Zhongshan Hospital Affiliated to Fudan University, each 3D shape of adrenal gland is annotated by an expert endocrinologist using abdominal computed tomography (CT), together with a binary classification label of normal adrenal gland or adrenal mass. Considering patient privacy, we do not provide the source CT scans, but the real 3D shapes of adrenal glands and their classification labels. We calculate the center of adrenal and resize the center-cropped 64mm×64mm×64mm volume into 28×28×28. The dataset is randomly split into training/validation/test set of 1,188/98/298 on a patient level.\n",
      "    License: CC BY 4.0\n"
     ]
    }
   ],
   "source": [
    "print(train_dataset)"
   ]
  },
  {
   "cell_type": "code",
   "execution_count": 9,
   "id": "a6eaa1d4",
   "metadata": {},
   "outputs": [],
   "source": [
    "device = torch.device(\"cuda\" if torch.cuda.is_available() else \"cpu\")"
   ]
  },
  {
   "cell_type": "code",
   "execution_count": 10,
   "id": "e9505589",
   "metadata": {
    "scrolled": true
   },
   "outputs": [
    {
     "name": "stdout",
     "output_type": "stream",
     "text": [
      "-------------------PARAM LIST-----------------\n",
      "(('initial_wd', 1), ('smoothing_value', 0))\n",
      "----------------------------------------------\n",
      "----------------------------------------------------------\n",
      "1/1:  (('initial_wd', 1), ('smoothing_value', 0))\n",
      "----------------------------------------------------------\n",
      "--------------------------------------\n",
      "CV 0\n"
     ]
    },
    {
     "data": {
      "application/vnd.jupyter.widget-view+json": {
       "model_id": "3681ed04c971419fba5907f7c92f9916",
       "version_major": 2,
       "version_minor": 0
      },
      "text/plain": [
       "  0%|          | 0/15625 [00:00<?, ?it/s]"
      ]
     },
     "metadata": {},
     "output_type": "display_data"
    },
    {
     "name": "stdout",
     "output_type": "stream",
     "text": [
      "--------------------------------------\n",
      "CV 1\n"
     ]
    },
    {
     "data": {
      "application/vnd.jupyter.widget-view+json": {
       "model_id": "b11792b012014d60b757af03162c8f09",
       "version_major": 2,
       "version_minor": 0
      },
      "text/plain": [
       "  0%|          | 0/15625 [00:00<?, ?it/s]"
      ]
     },
     "metadata": {},
     "output_type": "display_data"
    },
    {
     "name": "stdout",
     "output_type": "stream",
     "text": [
      "--------------------------------------\n",
      "CV 2\n"
     ]
    },
    {
     "data": {
      "application/vnd.jupyter.widget-view+json": {
       "model_id": "b761d7b50848483685c3c2bbdf140b15",
       "version_major": 2,
       "version_minor": 0
      },
      "text/plain": [
       "  0%|          | 0/15625 [00:00<?, ?it/s]"
      ]
     },
     "metadata": {},
     "output_type": "display_data"
    },
    {
     "name": "stdout",
     "output_type": "stream",
     "text": [
      "--------------------------FINAL SCORE FOR KEY--------------------------------------\n",
      "(('initial_wd', 1), ('smoothing_value', 0))\n",
      "VAL SCORE  0.8605442\n",
      "TEST SCORE 0.8299777\n",
      "-----------------------------------------------------------------------------------\n"
     ]
    }
   ],
   "source": [
    "#Do a gridsearch for best results, this includes just one parameter combination for demonstration purposes with short training time\n",
    "params = {\"smoothing_value\":[0],\n",
    "         \"initial_wd\":[1]}\n",
    "\n",
    "list_of_lists = []\n",
    "for key in params:\n",
    "    list_of_lists.append([(key, x) for x in params[key]])\n",
    "\n",
    "for index, left_list in enumerate(list_of_lists):\n",
    "    other_lists = (list_of_lists[0:index] + list_of_lists[index+1:])\n",
    "    right_list = [i for sublist in other_lists for i in sublist]\n",
    "    l = list(it.product(left_list, right_list))\n",
    "\n",
    "print(\"-------------------PARAM LIST-----------------\")\n",
    "for item in l:\n",
    "    print(item)\n",
    "print(\"----------------------------------------------\")\n",
    "\n",
    "results = {}\n",
    "\n",
    "#Just 1 train/test for now\n",
    "num_cv = 3\n",
    "for index, x in enumerate(l):\n",
    "    print(\"----------------------------------------------------------\")\n",
    "    print(str(index+1)+\"/\"+str(len(l))+\": \", x)\n",
    "    print(\"----------------------------------------------------------\")\n",
    "   \n",
    "    wd, sv = x\n",
    "    wd = wd[1]\n",
    "    sv = sv[1]\n",
    "\n",
    "    results[x] = {}\n",
    "    results[x][\"val_score\"] = [] \n",
    "    results[x][\"test_score\"] = [] \n",
    "    \n",
    "    for i in range(num_cv):\n",
    "        print(\"--------------------------------------\")\n",
    "        print(\"CV \"+str(i))\n",
    "        torch.manual_seed(i)\n",
    "        np.random.seed(i)\n",
    "        model = ACDNN3D(in_channels=1, n_out=2, starting_channels=16, max_channels=256, blocks=8, group_size=2, random_input_mask=False).to(device)\n",
    "        #model = torch.compile(model)\n",
    "        test_score, val_score, model = train_model(train_loader, val_loader, test_loader, model=model, epochs=1, test_batches = 1000,\n",
    "                            checkpoint_filename=\"binary_model.pyt\", iters_between_test=100, lr=1e-3, evaluate_using_auc=False,\n",
    "                            initial_wd=wd, smoothing_value=sv)\n",
    "        results[x][\"val_score\"].append(val_score.reshape(1,-1))\n",
    "        results[x][\"test_score\"].append(test_score.reshape(1,-1))\n",
    "\n",
    "    results[x][\"val_score\"] = np.concatenate(results[x][\"val_score\"]).mean(axis=0)\n",
    "    results[x][\"test_score\"] = np.concatenate(results[x][\"test_score\"]).mean(axis=0)\n",
    "    best_score_index = results[x][\"val_score\"].argmax()\n",
    "\n",
    "    print(\"--------------------------FINAL SCORE FOR KEY--------------------------------------\")\n",
    "    print(x)\n",
    "    print(\"VAL SCORE \", results[x][\"val_score\"][best_score_index])\n",
    "    print(\"TEST SCORE\", results[x][\"test_score\"][best_score_index])\n",
    "    print(\"-----------------------------------------------------------------------------------\")"
   ]
  },
  {
   "cell_type": "code",
   "execution_count": 11,
   "id": "94a29d2d-d6b1-481e-ab3f-97793824c222",
   "metadata": {},
   "outputs": [],
   "source": [
    "x = results[((\"initial_wd\", 1), (\"smoothing_value\", 0))]"
   ]
  },
  {
   "cell_type": "code",
   "execution_count": 12,
   "id": "91305359",
   "metadata": {},
   "outputs": [
    {
     "data": {
      "text/plain": [
       "[<matplotlib.lines.Line2D at 0x7f22cae4b0a0>]"
      ]
     },
     "execution_count": 12,
     "metadata": {},
     "output_type": "execute_result"
    },
    {
     "data": {
      "image/png": "[encoded data removed]",
      "text/plain": [
       "<Figure size 640x480 with 1 Axes>"
      ]
     },
     "metadata": {},
     "output_type": "display_data"
    }
   ],
   "source": [
    "plt.plot(x[\"val_score\"])"
   ]
  },
  {
   "cell_type": "code",
   "execution_count": 13,
   "id": "86e04013-4fab-43c1-bfc1-844faf1b748b",
   "metadata": {},
   "outputs": [
    {
     "data": {
      "text/plain": [
       "[<matplotlib.lines.Line2D at 0x7f24085cfac0>]"
      ]
     },
     "execution_count": 13,
     "metadata": {},
     "output_type": "execute_result"
    },
    {
     "data": {
      "image/png": "[encoded data removed]",
      "text/plain": [
       "<Figure size 640x480 with 1 Axes>"
      ]
     },
     "metadata": {},
     "output_type": "display_data"
    }
   ],
   "source": [
    "plt.plot(x[\"test_score\"])"
   ]
  },
  {
   "cell_type": "code",
   "execution_count": null,
   "id": "6cccb7e1-9061-4864-9f47-bf0e794a421c",
   "metadata": {},
   "outputs": [],
   "source": []
  }
 ],
 "metadata": {
  "kernelspec": {
   "display_name": "Python 3 (ipykernel)",
   "language": "python",
   "name": "python3"
  },
  "language_info": {
   "codemirror_mode": {
    "name": "ipython",
    "version": 3
   },
   "file_extension": ".py",
   "mimetype": "text/x-python",
   "name": "python",
   "nbconvert_exporter": "python",
   "pygments_lexer": "ipython3",
   "version": "3.10.12"
  }
 },
 "nbformat": 4,
 "nbformat_minor": 5
}
